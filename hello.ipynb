{
 "cells": [
  {
   "cell_type": "code",
   "execution_count": 9,
   "id": "180a9f13",
   "metadata": {},
   "outputs": [
    {
     "name": "stdout",
     "output_type": "stream",
     "text": [
      "['blue', 'yellow', 1, 44, 14, 44.87, True, 1, 44]\n",
      "<class 'list'>\n"
     ]
    }
   ],
   "source": [
    "lst=[\"red\",1,44,14,44.87,True,1,44]\n",
    "lst[0:1]= [\"blue\",\"yellow\"]\n",
    "print(lst)\n",
    "print(type(lst))"
   ]
  },
  {
   "cell_type": "markdown",
   "id": "02069cf8",
   "metadata": {},
   "source": []
  },
  {
   "cell_type": "markdown",
   "id": "532aa7a5",
   "metadata": {},
   "source": [
    "**Tuple**\n",
    "A tuple is a ordered collection of item in python\n",
    "immutable in nature (once assigned can't be modified)\n",
    "support multiple element\n",
    "define using pranthesis ()\n",
    "Support indexing and slicing concepts\n",
    "for changing any data in the tuple we first convert it in list (karle jugaad karle)"
   ]
  },
  {
   "cell_type": "code",
   "execution_count": 4,
   "id": "2ca260fb",
   "metadata": {},
   "outputs": [
    {
     "name": "stdout",
     "output_type": "stream",
     "text": [
      "(1, 2, 3, 'hello', True, 22.34, 3)\n",
      "<class 'tuple'>\n",
      "('hello',)\n",
      "22.34\n",
      "1\n",
      "3\n"
     ]
    }
   ],
   "source": [
    "tpl = (1,2,3,\"hello\",True,22.34,3)\n",
    "print(tpl)\n",
    "print(type(tpl))\n",
    "tpls= (\"hello\",)# tuple with a single element\n",
    "print(tpls)\n",
    "print(tpl[5])\n",
    "# tuplle is immutable so only we have only two methods in it\n",
    "print(tpl.count(\"hello\"))\n",
    "print(tpl.index(\"hello\"))"
   ]
  },
  {
   "cell_type": "markdown",
   "id": "c273bb2a",
   "metadata": {},
   "source": [
    "**Set**\n",
    "A set is a collection of unique and unorderd element\n",
    "Define using curly brasses { } OR set() constructor\n",
    "Duplicates are automatically removed\n",
    "Sets are mutable but element inside must be immutable\n",
    "true and false consider as 1 & 0\n",
    "Use to perform math operation\n",
    "can't perform actions of indexing and slicing"
   ]
  },
  {
   "cell_type": "code",
   "execution_count": 1,
   "id": "445c8cd8",
   "metadata": {},
   "outputs": [
    {
     "name": "stdout",
     "output_type": "stream",
     "text": [
      "{False, 1, 2, 22.23, 'hello'}\n",
      "<class 'set'>\n",
      "date\n",
      "{False, 1, 2, 6, 7, 8, 9, 22.23, 'hello'}\n",
      "{False, 1, 6, 7, 8, 9, 22.23, 'hello'}\n",
      "{False, 1, 6, 7, 8, 9, 22.23, 'hello'}\n",
      "{False, 1, 6, 7, 8, 9, 22.23, 'hello'}\n"
     ]
    }
   ],
   "source": [
    "st = {\"hello\",1,2,False,22.23,0,2}\n",
    "print(st)\n",
    "print(type(st))\n",
    "# set methods\n",
    "st2= st.copy()\n",
    "print (\"date\")\n",
    "#st,update - add multiple elements (from list, tuple , set)\n",
    "st.update([6,7],{8,9})\n",
    "print(st)\n",
    "#remove - temove an element\n",
    "#raises key eror if element not found\n",
    "st.remove(2)\n",
    "print(st)\n",
    "# discard - remove element if present\n",
    "# doesnot raises erroe if element id is not present\n",
    "st.discard(2)\n",
    "print(st)\n",
    "#pop remove element randomly\n",
    "st.pop\n",
    "print(st)\n"
   ]
  },
  {
   "cell_type": "code",
   "execution_count": 3,
   "id": "5176f62e",
   "metadata": {},
   "outputs": [
    {
     "name": "stdout",
     "output_type": "stream",
     "text": [
      "{1, 2, 3, 4, 5}\n",
      "{1, 2, 3, 4, 5}\n",
      "{3}\n",
      "{3}\n",
      "{4, 5}\n",
      "{1, 2}\n",
      "{1, 2, 4, 5}\n",
      "{1, 2, 4, 5}\n"
     ]
    }
   ],
   "source": [
    "##mathematical operator\n",
    "# union |\n",
    "#combine all the unique elements\n",
    "a={1,2,3}\n",
    "b={3,4,5}\n",
    "print(a.union(b))\n",
    "print (a|b)\n",
    "## intersection &\n",
    "#return common elemnts\n",
    "print(a& b)\n",
    "print(a.intersection(b))\n",
    "## differnce -\n",
    "#retun element present in one set but not in other\n",
    "print(b.difference(a))\n",
    "print(a.difference(b))\n",
    "## symmetric_diff -\n",
    "# return element present in either set but not in both\n",
    "print(a.symmetric_difference(b))\n",
    "print(b.symmetric_difference(a))"
   ]
  },
  {
   "cell_type": "code",
   "execution_count": null,
   "id": "324a8d1c",
   "metadata": {},
   "outputs": [],
   "source": [
    "### issubset()\n",
    "#checks all elements of one set are in another\n",
    "a={1,2}\n",
    "b={1,2,3,4}\n",
    "print(a.issubset(b)) "
   ]
  },
  {
   "cell_type": "markdown",
   "id": "8f218aff",
   "metadata": {},
   "source": [
    "# Dictonary\n",
    "A dictionary in python is a collection of key value pairs, where:\n",
    "keys are unique and immutable(string,nubers,tuple)\n",
    "values can be of any datatype(list,string, int, dict)\n",
    "Dict is unorded(before python 3.7) but insertion- ordered (since python 3.7+)\n",
    "dict is mutuable\n",
    "dictionary do not allow duplicate values\n"
   ]
  },
  {
   "cell_type": "code",
   "execution_count": null,
   "id": "ae598e37",
   "metadata": {},
   "outputs": [
    {
     "name": "stdout",
     "output_type": "stream",
     "text": [
      "<class 'dict'>\n",
      "{'name': 'ace', 'age': 20, 'city': 'jaipur', 1: 'Delhi', 2: 'Mumbai', (4, 5): 'kolkata'}\n"
     ]
    }
   ],
   "source": [
    "dt = {\n",
    "    \"name\" :\"ace\",      #key: value\n",
    "     \"age\" : 20,\n",
    "     \"city\" : \"\",\n",
    "     1: \"Delhi\",\n",
    "     2: \"Mumbai\",\n",
    "     (4,5): \"kolkata\",\n",
    "\n",
    "      } \n",
    "#Changing value of string\n",
    "dt[\"city\"]=\"jaipur\"    \n",
    "print(type(dt))\n",
    "print(dt)"
   ]
  },
  {
   "cell_type": "code",
   "execution_count": null,
   "id": "521e1a31",
   "metadata": {},
   "outputs": [
    {
     "name": "stdout",
     "output_type": "stream",
     "text": [
      "dict_keys(['name', 'age', 'city', 'town'])\n",
      "dict_values(['ace', 20, 'Jaipur', 'hathras'])\n",
      "dict_items([('name', 'ace'), ('age', 20), ('city', 'Jaipur'), ('town', 'hathras')])\n",
      "Jaipur\n",
      "{'name': 'ace', 'city': 'Jaipur'}\n",
      "{'name': 'ace'}\n",
      "{'name': 'ace', 'hobby': 'gilli danda'}\n"
     ]
    },
    {
     "data": {
      "text/plain": [
       "'jaipur'"
      ]
     },
     "execution_count": 23,
     "metadata": {},
     "output_type": "execute_result"
    }
   ],
   "source": [
    "## dict method\n",
    "dt={\"name\" :\"ace\",      #key: value\n",
    "     \"age\" : 20,\n",
    "     \"city\" : \"Jaipur\",\n",
    "     \"town\": \"hathras\",\n",
    "     }\n",
    "print(dt.keys())\n",
    "print(dt.values())\n",
    "print(dt.items())\n",
    "print(dt.get(\"city\"))\n",
    "dt.pop(\"town\")\n",
    "del dt[\"age\"] # same as pop\n",
    "print(dt)\n",
    "dt.popitem() # delete last key and valuepair\n",
    "print(dt)\n",
    "dt.update({\"hobby\" : \"gilli danda\"})\n",
    "print(dt)\n",
    "student={ \"101\": {\"name\": \"ravi\" , \"city\":\"jaipur\"} }\n",
    "student[\"101\"][\"city\"]\n"
   ]
  }
 ],
 "metadata": {
  "kernelspec": {
   "display_name": ".venv",
   "language": "python",
   "name": "python3"
  },
  "language_info": {
   "codemirror_mode": {
    "name": "ipython",
    "version": 3
   },
   "file_extension": ".py",
   "mimetype": "text/x-python",
   "name": "python",
   "nbconvert_exporter": "python",
   "pygments_lexer": "ipython3",
   "version": "3.13.7"
  }
 },
 "nbformat": 4,
 "nbformat_minor": 5
}
