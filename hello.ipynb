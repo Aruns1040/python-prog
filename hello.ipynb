{
 "cells": [
  {
   "cell_type": "code",
   "execution_count": 9,
   "id": "180a9f13",
   "metadata": {},
   "outputs": [
    {
     "name": "stdout",
     "output_type": "stream",
     "text": [
      "['blue', 'yellow', 1, 44, 14, 44.87, True, 1, 44]\n",
      "<class 'list'>\n"
     ]
    }
   ],
   "source": [
    "lst=[\"red\",1,44,14,44.87,True,1,44]\n",
    "lst[0:1]= [\"blue\",\"yellow\"]\n",
    "print(lst)\n",
    "print(type(lst))"
   ]
  }
 ],
 "metadata": {
  "kernelspec": {
   "display_name": ".venv",
   "language": "python",
   "name": "python3"
  },
  "language_info": {
   "codemirror_mode": {
    "name": "ipython",
    "version": 3
   },
   "file_extension": ".py",
   "mimetype": "text/x-python",
   "name": "python",
   "nbconvert_exporter": "python",
   "pygments_lexer": "ipython3",
   "version": "3.13.7"
  }
 },
 "nbformat": 4,
 "nbformat_minor": 5
}
